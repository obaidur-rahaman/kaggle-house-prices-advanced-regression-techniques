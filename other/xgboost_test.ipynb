{
 "cells": [
  {
   "cell_type": "code",
   "execution_count": 12,
   "metadata": {
    "collapsed": false,
    "deletable": true,
    "editable": true
   },
   "outputs": [
    {
     "name": "stdout",
     "output_type": "stream",
     "text": [
      "/Users/robert/bin/xgboost/python-package:/Users/robert/bin/spark-2.1.0-bin-hadoop2.7/python/lib/py4j-0.10.4-src.zip:/Users/robert/bin/spark-2.1.0-bin-hadoop2.7/python/:\r\n"
     ]
    }
   ],
   "source": [
    "!echo $PYTHONPATH"
   ]
  },
  {
   "cell_type": "code",
   "execution_count": 13,
   "metadata": {
    "collapsed": false,
    "deletable": true,
    "editable": true
   },
   "outputs": [
    {
     "data": {
      "text/plain": [
       "'/Users/robert/workspaces/kaggle/house-prices-advanced-regression-techniques'"
      ]
     },
     "execution_count": 13,
     "metadata": {},
     "output_type": "execute_result"
    }
   ],
   "source": [
    "import os\n",
    "os.getcwd()"
   ]
  },
  {
   "cell_type": "markdown",
   "metadata": {},
   "source": [
    "# XGBoost Tutorial"
   ]
  },
  {
   "cell_type": "markdown",
   "metadata": {},
   "source": [
    "## Simple model training"
   ]
  },
  {
   "cell_type": "code",
   "execution_count": 16,
   "metadata": {
    "collapsed": true,
    "deletable": true,
    "editable": true
   },
   "outputs": [],
   "source": [
    "import xgboost as xgb"
   ]
  },
  {
   "cell_type": "code",
   "execution_count": 15,
   "metadata": {
    "collapsed": false,
    "deletable": true,
    "editable": true
   },
   "outputs": [
    {
     "name": "stdout",
     "output_type": "stream",
     "text": [
      "/Users/robert/bin/xgboost/demo/data/agaricus.txt.train\r\n"
     ]
    }
   ],
   "source": [
    "!find ~ -name \"agaricus.txt.train\""
   ]
  },
  {
   "cell_type": "code",
   "execution_count": 17,
   "metadata": {
    "collapsed": false,
    "deletable": true,
    "editable": true
   },
   "outputs": [],
   "source": [
    "dtrain = xgb.DMatrix(\"/Users/robert/bin/xgboost/demo/data/agaricus.txt.train\")\n",
    "dtest = xgb.DMatrix(\"/Users/robert/bin/xgboost/demo/data/agaricus.txt.test\")"
   ]
  },
  {
   "cell_type": "code",
   "execution_count": 20,
   "metadata": {
    "collapsed": false,
    "deletable": true,
    "editable": true
   },
   "outputs": [
    {
     "data": {
      "text/plain": [
       "array([ 0.04379079,  0.95645308,  0.04379079, ...,  0.95645308,\n",
       "        0.04214689,  0.95645308], dtype=float32)"
      ]
     },
     "execution_count": 20,
     "metadata": {},
     "output_type": "execute_result"
    }
   ],
   "source": [
    "param = {\n",
    "        \"max_depth\":4,\n",
    "        \"eta\": 1,\n",
    "        \"silent\": 0,\n",
    "        \"objective\": \"binary:logistic\"\n",
    "        }\n",
    "num_round = 2\n",
    "\n",
    "xgb_model = xgb.train(param, dtrain, 2)\n",
    "xgb_model.predict(dtest)"
   ]
  },
  {
   "cell_type": "markdown",
   "metadata": {
    "collapsed": true,
    "deletable": true,
    "editable": true
   },
   "source": [
    "## Saving/Loading models"
   ]
  },
  {
   "cell_type": "markdown",
   "metadata": {},
   "source": [
    "### serialising using pickles"
   ]
  },
  {
   "cell_type": "code",
   "execution_count": 26,
   "metadata": {
    "collapsed": false
   },
   "outputs": [],
   "source": [
    "import pickle\n",
    "\n",
    "# save model to disk\n",
    "pickle.dump(xgb_model, open(\"./models/xgb-simple.pkl\", \"wb\"))\n",
    "\n",
    "# load model from pickle\n",
    "xgb_modl = pickle.load(open(\"./models/xgb-simple.pkl\", \"rb\"))"
   ]
  },
  {
   "cell_type": "markdown",
   "metadata": {},
   "source": [
    "### serialising using joblib"
   ]
  },
  {
   "cell_type": "markdown",
   "metadata": {},
   "source": [
    "[Joblib](https://pypi.python.org/pypi/joblib) is a set of tools to provide lightweight pipelining in Python. In particular, joblib offers:\n",
    "\n",
    "* transparent disk-caching of the output values and lazy re-evaluation (memoize pattern)\n",
    "* easy simple parallel computing\n",
    "* logging and tracing of the execution"
   ]
  },
  {
   "cell_type": "code",
   "execution_count": 30,
   "metadata": {
    "collapsed": false
   },
   "outputs": [],
   "source": [
    "from sklearn.externals import joblib\n",
    "\n",
    "# save\n",
    "joblib.dump(xgb_model, \"./models/xgb-simple.dat\")\n",
    "\n",
    "# load\n",
    "xgb_model = joblib.load(\"./models/xgb-simple.dat\")\n"
   ]
  },
  {
   "cell_type": "code",
   "execution_count": null,
   "metadata": {
    "collapsed": true
   },
   "outputs": [],
   "source": []
  }
 ],
 "metadata": {
  "kernelspec": {
   "display_name": "Python 2",
   "language": "python",
   "name": "python2"
  },
  "language_info": {
   "codemirror_mode": {
    "name": "ipython",
    "version": 2
   },
   "file_extension": ".py",
   "mimetype": "text/x-python",
   "name": "python",
   "nbconvert_exporter": "python",
   "pygments_lexer": "ipython2",
   "version": "2.7.13"
  }
 },
 "nbformat": 4,
 "nbformat_minor": 2
}
