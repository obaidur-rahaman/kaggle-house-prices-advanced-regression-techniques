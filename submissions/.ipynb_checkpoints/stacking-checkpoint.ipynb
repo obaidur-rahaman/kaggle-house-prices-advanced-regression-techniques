{
 "cells": [
  {
   "cell_type": "code",
   "execution_count": 1,
   "metadata": {
    "collapsed": true
   },
   "outputs": [],
   "source": [
    "import pandas as pd\n",
    "import numpy as np\n",
    "import seaborn as sns\n",
    "from sklearn.linear_model import Ridge, RidgeCV, ElasticNet, LassoCV, LassoLarsCV\n",
    "from sklearn.model_selection import cross_val_score\n",
    "import matplotlib\n",
    "import matplotlib.pyplot as plt\n",
    "from scipy.stats import skew\n",
    "from scipy.stats.stats import pearsonr\n",
    "from scipy import stats\n",
    "import xgboost as xgb\n",
    "from scipy.stats import norm\n",
    "#from pyglmnet import GLM # Marco: need to understand how to install this \n",
    "from sklearn.preprocessing import StandardScaler\n",
    "from subprocess import call\n",
    "from sklearn.model_selection import KFold\n",
    "\n",
    "from IPython import get_ipython\n",
    "get_ipython().run_line_magic('matplotlib', 'inline')"
   ]
  },
  {
   "cell_type": "markdown",
   "metadata": {},
   "source": [
    "# Create Ensemble class"
   ]
  },
  {
   "cell_type": "code",
   "execution_count": 2,
   "metadata": {
    "collapsed": true
   },
   "outputs": [],
   "source": [
    "class Ensemble(object):\n",
    "    def __init__(self, n_folds, stacker, base_models,seed_value):\n",
    "        self.n_folds = n_folds\n",
    "        self.stacker = stacker\n",
    "        self.base_models = base_models\n",
    "        \n",
    "    def fit_predict(self, X, y, T):\n",
    "        X = np.array(X)\n",
    "        y = np.array(y)\n",
    "        T = np.array(T)\n",
    "\n",
    "\n"
   ]
  },
  {
   "cell_type": "markdown",
   "metadata": {},
   "source": [
    "# Read in the dataset"
   ]
  },
  {
   "cell_type": "code",
   "execution_count": 3,
   "metadata": {
    "collapsed": false
   },
   "outputs": [
    {
     "ename": "IndentationError",
     "evalue": "expected an indented block (<ipython-input-3-a37d4ab2e93d>, line 18)",
     "output_type": "error",
     "traceback": [
      "\u001b[0;36m  File \u001b[0;32m\"<ipython-input-3-a37d4ab2e93d>\"\u001b[0;36m, line \u001b[0;32m18\u001b[0m\n\u001b[0;31m    model = get_ipython().getoutput('grep \"model =\" ../models/single/{bm}')\u001b[0m\n\u001b[0m        ^\u001b[0m\n\u001b[0;31mIndentationError\u001b[0m\u001b[0;31m:\u001b[0m expected an indented block\n"
     ]
    }
   ],
   "source": [
    "def main():\n",
    "    \n",
    "    seed = 2017\n",
    "    nfold = 5\n",
    "    \n",
    "    train = pd.read_csv(\"../data/X_train_v1.csv\")\n",
    "    y = train['SalePrice']\n",
    "    X = train.loc[:,'MSSubClass':'SaleCondition_Partial']\n",
    "    \n",
    "    test = pd.read_csv(\"../data/X_test_v1.csv\")\n",
    "    T = test.loc[:,'MSSubClass':'SaleCondition_Partial']\n",
    "    \n",
    "    #Read in the base models\n",
    "    base_models_name = !ls ../models/single\n",
    "    base_models = []\n",
    "    for i, bm in enumerate(base_models_name):\n",
    "    #print(i,bm)\n",
    "    model = !grep \"model =\" ../models/single/{bm}\n",
    "    model = model[0]\n",
    "    base_models.append(model[12:])\n",
    "    #print(model)\n",
    "    base_models \n",
    "    \n",
    "    # Call stacking\n",
    "    \n",
    "    ens = Ensemble(n_folds=nfold, stacker=xgboost,base_models=base_models,seed_value=seed)"
   ]
  },
  {
   "cell_type": "code",
   "execution_count": null,
   "metadata": {
    "collapsed": false
   },
   "outputs": [],
   "source": [
    "#folds = list(KFold(len(y), n_splits=nfold, shuffle=True, random_state=seed))\n",
    "\n",
    "#kfold = KFold(len(y),n_splits=nfold, random_state=seed)\n",
    "#kfold"
   ]
  },
  {
   "cell_type": "code",
   "execution_count": null,
   "metadata": {
    "collapsed": true
   },
   "outputs": [],
   "source": []
  },
  {
   "cell_type": "code",
   "execution_count": null,
   "metadata": {
    "collapsed": true
   },
   "outputs": [],
   "source": []
  }
 ],
 "metadata": {
  "kernelspec": {
   "display_name": "Python 3",
   "language": "python",
   "name": "python3"
  },
  "language_info": {
   "codemirror_mode": {
    "name": "ipython",
    "version": 3
   },
   "file_extension": ".py",
   "mimetype": "text/x-python",
   "name": "python",
   "nbconvert_exporter": "python",
   "pygments_lexer": "ipython3",
   "version": "3.6.0"
  }
 },
 "nbformat": 4,
 "nbformat_minor": 2
}
