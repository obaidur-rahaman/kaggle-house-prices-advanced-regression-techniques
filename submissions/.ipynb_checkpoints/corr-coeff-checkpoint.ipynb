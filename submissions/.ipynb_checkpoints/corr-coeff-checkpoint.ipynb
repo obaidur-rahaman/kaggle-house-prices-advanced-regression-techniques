{
 "cells": [
  {
   "cell_type": "code",
   "execution_count": null,
   "metadata": {
    "collapsed": false
   },
   "outputs": [],
   "source": [
    "import numpy as np\n",
    "import pandas as pd\n",
    "import seaborn as sns\n",
    "import matplotlib\n",
    "from sklearn.model_selection import cross_val_score\n",
    "from pandas import ExcelWriter\n",
    "\n",
    "from IPython import get_ipython\n",
    "get_ipython().run_line_magic('matplotlib', 'inline')"
   ]
  },
  {
   "cell_type": "code",
   "execution_count": null,
   "metadata": {
    "collapsed": true
   },
   "outputs": [],
   "source": [
    "pred_dt = pd.read_csv(\"sub-dt-20170502-184700.csv\")\n",
    "pred_elasticnet = pd.read_csv(\"sub-elasticnet-20170502-184916.csv\")\n",
    "pred_et = pd.read_csv(\"sub-et-20170502-184844.csv\")\n",
    "pred_lars = pd.read_csv(\"sub-lars-20170502-184918.csv\")\n",
    "pred_lasso = pd.read_csv(\"sub-lasso-20170502-184913.csv\")\n",
    "pred_lgb = pd.read_csv(\"sub-lgb-20170502-184911.csv\")\n",
    "pred_rf = pd.read_csv(\"sub-rf-20170502-184840.csv\")\n",
    "pred_ridge = pd.read_csv(\"sub-ridge-20170502-184914.csv\")\n",
    "pred_svm = pd.read_csv(\"sub-svm-rbf-20170502-184923.csv\")\n",
    "pred_xgb = pd.read_csv(\"sub-xgb-20170502-184907.csv\")\n",
    "\n",
    "pred_ensemble = pd.read_csv(\"ensembled_results.csv\")"
   ]
  },
  {
   "cell_type": "code",
   "execution_count": null,
   "metadata": {
    "collapsed": true
   },
   "outputs": [],
   "source": [
    "def rmse_cv(model):\n",
    "    rmse= np.sqrt(-cross_val_score(model, X_train, y, scoring=\"neg_mean_squared_error\", cv = 5))\n",
    "    return(rmse)"
   ]
  },
  {
   "cell_type": "code",
   "execution_count": null,
   "metadata": {
    "collapsed": true
   },
   "outputs": [],
   "source": [
    "# Scatter plot\n",
    "def scatplot(a,b):\n",
    "    scatplotdata = pd.DataFrame({\"x\":a, \"y\":b})\n",
    "    scatplotdata.plot(x = \"x\", y = \"y\", kind = \"scatter\")\n",
    "    return()"
   ]
  },
  {
   "cell_type": "code",
   "execution_count": null,
   "metadata": {
    "collapsed": false
   },
   "outputs": [],
   "source": [
    "pred_all = pred_dt.merge(pred_elasticnet, on = \"Id\").merge(pred_et, on = \"Id\").merge(pred_lars, on = \"Id\").merge(pred_lasso, on = \"Id\").merge(pred_lgb, on = \"Id\").merge(pred_rf, on = \"Id\").merge(pred_ridge, on = \"Id\").merge(pred_svm, on = \"Id\").merge(pred_xgb, on = \"Id\")"
   ]
  },
  {
   "cell_type": "code",
   "execution_count": null,
   "metadata": {
    "collapsed": false
   },
   "outputs": [],
   "source": [
    "#pred_all"
   ]
  },
  {
   "cell_type": "code",
   "execution_count": null,
   "metadata": {
    "collapsed": false
   },
   "outputs": [],
   "source": [
    "id = pred_all[\"Id\"]\n",
    "pred_all = pred_all.drop(\"Id\", axis=1)\n",
    "pred_all.columns = [\"dt\", \"elasticnet\", \"et\", \"lars\", \"lasso\", \"lgb\", \"rf\", \"ridge\", \"svm\", \"xgb\"]\n",
    "corrmat = pred_all.corr()\n",
    "\n",
    "cols = corrmat.index"
   ]
  },
  {
   "cell_type": "code",
   "execution_count": null,
   "metadata": {
    "collapsed": false
   },
   "outputs": [],
   "source": [
    "cols"
   ]
  },
  {
   "cell_type": "code",
   "execution_count": null,
   "metadata": {
    "collapsed": false
   },
   "outputs": [],
   "source": [
    "cm = np.corrcoef(pred_all[cols].values.T)\n",
    "sns.set(font_scale=1.25)\n",
    "hm = sns.heatmap(cm, cbar=True, annot=True, square=True, fmt='.2f', annot_kws={'size': 10}, yticklabels=cols.values, xticklabels=cols.values)"
   ]
  },
  {
   "cell_type": "markdown",
   "metadata": {},
   "source": [
    "#\n",
    "#\n",
    "# Ensembling\n",
    "#\n",
    "#"
   ]
  },
  {
   "cell_type": "markdown",
   "metadata": {},
   "source": [
    "# The best performing model"
   ]
  },
  {
   "cell_type": "code",
   "execution_count": null,
   "metadata": {
    "collapsed": true
   },
   "outputs": [],
   "source": [
    "model_elasticnet = pred_all[\"elasticnet\"]\n",
    "\n",
    "result = pd.concat([id,model_elasticnet], axis=1)\n",
    "result.columns =[\"Id\",\"SalePrice\"]\n",
    "result.to_csv(\"./elasticnet.csv\", index = False)"
   ]
  },
  {
   "cell_type": "markdown",
   "metadata": {},
   "source": [
    "# Simple average of 10 models"
   ]
  },
  {
   "cell_type": "code",
   "execution_count": null,
   "metadata": {
    "collapsed": false
   },
   "outputs": [],
   "source": [
    "#id\n",
    "simple_average_10models = pred_all.mean(axis=1)\n",
    "\n",
    "result = pd.concat([id,simple_average_10models], axis=1)\n",
    "result.columns =[\"Id\",\"SalePrice\"]\n",
    "result.to_csv(\"./average-10models.csv\", index = False)"
   ]
  },
  {
   "cell_type": "markdown",
   "metadata": {
    "collapsed": true
   },
   "source": [
    "# Simple average of best 5 models\n"
   ]
  },
  {
   "cell_type": "code",
   "execution_count": null,
   "metadata": {
    "collapsed": true
   },
   "outputs": [],
   "source": [
    "simple_average_5models = (pred_all[\"elasticnet\"]+pred_all[\"lasso\"]+pred_all[\"ridge\"]+pred_all[\"xgb\"]+pred_all[\"lars\"])/5\n",
    "\n",
    "# Unquote the following three lines to take median instead of mean\n",
    "#simple_average_5models = pred_elasticnet.merge(pred_lasso, on = \"Id\").merge(pred_ridge, on = \"Id\").merge(pred_xgb, on = \"Id\").merge(pred_lars, on = \"Id\")\n",
    "#simple_average_5models = simple_average_5models.drop(\"Id\", axis=1)\n",
    "#simple_average_5models = simple_average_5models.median(axis=1)\n",
    "\n",
    "result = pd.concat([id,simple_average_5models], axis=1)\n",
    "result.columns =[\"Id\",\"SalePrice\"]\n",
    "result.to_csv(\"./average-5models.csv\", index = False)"
   ]
  },
  {
   "cell_type": "markdown",
   "metadata": {},
   "source": [
    "# Simple average of best 5 uncorrelated models"
   ]
  },
  {
   "cell_type": "code",
   "execution_count": null,
   "metadata": {
    "collapsed": true
   },
   "outputs": [],
   "source": [
    "simple_average_best_uncorr_5models = (pred_all[\"elasticnet\"]+pred_all[\"et\"]+pred_all[\"lgb\"]+pred_all[\"rf\"]+pred_all[\"xgb\"])/5\n",
    "\n",
    "# Unquote the following three lines to take median instead of mean\n",
    "#simple_average_best_uncorr_5models = pred_elasticnet.merge(pred_et, on = \"Id\").merge(pred_lgb, on = \"Id\").merge(pred_rf, on = \"Id\").merge(pred_xgb, on = \"Id\")\n",
    "#simple_average_best_uncorr_5models = simple_average_best_uncorr_5models.drop(\"Id\", axis=1)\n",
    "#simple_average_best_uncorr_5models = simple_average_best_uncorr_5models.median(axis=1)\n",
    "\n",
    "\n",
    "result = pd.concat([id,simple_average_best_uncorr_5models], axis=1)\n",
    "result.columns =[\"Id\",\"SalePrice\"]\n",
    "result.to_csv(\"./average-best-uncorr-5models.csv\", index = False)"
   ]
  },
  {
   "cell_type": "markdown",
   "metadata": {},
   "source": [
    "# Weighted average of best 5 uncorrelated models"
   ]
  },
  {
   "cell_type": "code",
   "execution_count": null,
   "metadata": {
    "collapsed": false
   },
   "outputs": [],
   "source": [
    "w_elasticnet = 1/0.11375\n",
    "w_et = 1/0.13733\n",
    "w_lgb = 1/0.12299\n",
    "w_rf = 1/0.13123\n",
    "w_xgb = 1/0.11854\n",
    "\n",
    "weighted_average_best_uncorr_5models = (pred_all[\"elasticnet\"] * w_elasticnet + pred_all[\"et\"] * w_et + pred_all[\"lgb\"] * w_lgb + pred_all[\"rf\"] * w_rf + pred_all[\"xgb\"] * w_xgb)/(w_elasticnet + w_et + w_lgb + w_rf + w_xgb)\n",
    "\n",
    "result = pd.concat([id,weighted_average_best_uncorr_5models], axis=1)\n",
    "result.columns =[\"Id\",\"SalePrice\"]\n",
    "result.to_csv(\"./weighted-average-best-uncorr-5models.csv\", index = False)"
   ]
  },
  {
   "cell_type": "markdown",
   "metadata": {},
   "source": [
    "# Summary of Results (LB score)"
   ]
  },
  {
   "cell_type": "markdown",
   "metadata": {},
   "source": [
    "                                                 Mean     Median\n",
    "1. Best performing model (elastic net):         0.12005 \n",
    "2. Simple average of 10 models:                 0.12332   0.12008\n",
    "3. Simple average of best 5 models:             0.11932   0.12010\n",
    "4. Simple average of 5 best uncorrelated models:0.12416   0.12285\n",
    "5. Weighted avg of best uncorrelated models:    0.12358"
   ]
  },
  {
   "cell_type": "code",
   "execution_count": null,
   "metadata": {
    "collapsed": false,
    "scrolled": true
   },
   "outputs": [],
   "source": [
    "scatplot(pred_all[\"xgb\"],pred_all[\"elasticnet\"])"
   ]
  },
  {
   "cell_type": "code",
   "execution_count": null,
   "metadata": {
    "collapsed": false
   },
   "outputs": [],
   "source": [
    "#print(pred_elasticnet.sort_values(by = 'SalePrice', ascending = False))"
   ]
  },
  {
   "cell_type": "code",
   "execution_count": null,
   "metadata": {
    "collapsed": true
   },
   "outputs": [],
   "source": []
  }
 ],
 "metadata": {
  "kernelspec": {
   "display_name": "Python 3",
   "language": "python",
   "name": "python3"
  },
  "language_info": {
   "codemirror_mode": {
    "name": "ipython",
    "version": 3
   },
   "file_extension": ".py",
   "mimetype": "text/x-python",
   "name": "python",
   "nbconvert_exporter": "python",
   "pygments_lexer": "ipython3",
   "version": "3.6.0"
  }
 },
 "nbformat": 4,
 "nbformat_minor": 2
}
